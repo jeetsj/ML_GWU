{
 "cells": [
  {
   "cell_type": "code",
   "execution_count": null,
   "metadata": {},
   "outputs": [],
   "source": [
    "from csv import reader\n",
    "from math import sqrt\n",
    "from random import seed\n",
    "from random import randrange\n",
    "import pandas as pd\n",
    "import seaborn as sns\n",
    "import matplotlib.pyplot as plt\n",
    "from pandas.plotting import scatter_matrix\n",
    "import time as time\n",
    "import numpy as np"
   ]
  },
  {
   "cell_type": "code",
   "execution_count": null,
   "metadata": {},
   "outputs": [],
   "source": [
    "input_data ='train.csv'"
   ]
  },
  {
   "cell_type": "code",
   "execution_count": null,
   "metadata": {},
   "outputs": [],
   "source": [
    "df =pd.read_csv(input_data)"
   ]
  },
  {
   "cell_type": "code",
   "execution_count": null,
   "metadata": {},
   "outputs": [],
   "source": [
    "print(df.shape)\n",
    "df.head(n=5)"
   ]
  },
  {
   "cell_type": "code",
   "execution_count": null,
   "metadata": {},
   "outputs": [],
   "source": [
    "df[\"label\"].value_counts()"
   ]
  },
  {
   "cell_type": "code",
   "execution_count": null,
   "metadata": {},
   "outputs": [],
   "source": [
    "df.sample(frac=1)"
   ]
  },
  {
   "cell_type": "code",
   "execution_count": null,
   "metadata": {},
   "outputs": [],
   "source": [
    "df['label'].value_counts().plot.bar()"
   ]
  },
  {
   "cell_type": "code",
   "execution_count": null,
   "metadata": {},
   "outputs": [],
   "source": [
    "data_X = df.loc[:,df.columns!= \"label\"].values.astype('float32')\n",
    "data_Y =df[[\"label\"]].values\n",
    "\n",
    "data_X=np.array(data_X)\n",
    "data_Y=np.array(data_Y)\n",
    "\n",
    "data_X /= 255\n",
    "\n",
    "data_X = data_X[:3500]\n",
    "data_Y = data_Y[:3500]"
   ]
  },
  {
   "cell_type": "code",
   "execution_count": null,
   "metadata": {},
   "outputs": [],
   "source": [
    "from sklearn.model_selection import train_test_split\n",
    "from operator import itemgetter, attrgetter\n",
    "\n",
    "X_t, X_test, Y_t, Y_test = train_test_split(data_X, data_Y,test_size=0.15,random_state=0)"
   ]
  },
  {
   "cell_type": "code",
   "execution_count": null,
   "metadata": {},
   "outputs": [],
   "source": [
    "x = data_X.reshape(data_X.shape[0], 28, 28)\n",
    "plt.figure(figsize=(8,8))\n",
    "for i in range(15) :\n",
    "    plt.xticks([])\n",
    "    plt.yticks([])\n",
    "    plt.grid(False)\n",
    "    plt.subplot(3,5,i+1)\n",
    "    plt.imshow(x[i],cmap=plt.cm.binary)\n",
    "    plt.xlabel(data_Y[i])\n",
    "plt.show()"
   ]
  },
  {
   "cell_type": "code",
   "execution_count": null,
   "metadata": {},
   "outputs": [],
   "source": [
    "def euclidean_dist(given, row):\n",
    "     dist = np.sum(np.square(np.subtract(given,row)))\n",
    "     return np.sqrt(dist)\n",
    "\n",
    "def getting_neighbours(train, test_row,number):\n",
    "    distances = []\n",
    "    for i in range(len(train)):\n",
    "          dist = euclidean_dist(test_row,train[i])\n",
    "          distances.append((i, dist))\n",
    "    #print(distances)\n",
    "    distances.sort(key=lambda tup: tup[1])\n",
    "    # print(distances)\n",
    "    all_neighbor = []\n",
    "    for i in range(number):\n",
    "        all_neighbor.append(distances[i][0])\n",
    "    # print(all_neighbor)\n",
    "    return all_neighbor\n",
    "\n",
    "def predict_class(train, test_row,number):\n",
    "    neighbors =getting_neighbours(train,test_row,number)\n",
    "    # print(neighbors)\n",
    "    classes= [int(Y_t[row]) for row in neighbors]\n",
    "    # print(classes)\n",
    "    class_c={}\n",
    "    for x in range(len(classes)):\n",
    "      v = classes[x]\n",
    "      if v in class_c:\n",
    "          class_c[v] += 1\n",
    "      else:\n",
    "          class_c[v] = 1\n",
    "    sort_c = sorted(class_c.items(), key=lambda x: x[1], reverse=True)\n",
    "    return sort_c[0][0]\n",
    "\n",
    "def k_neighbors(train,test, number):\n",
    "    pred =[]\n",
    "    for row in test:\n",
    "        neighb =predict_class(train,row,number)\n",
    "        pred.append(neighb)\n",
    "    return pred\n",
    "\n",
    "def accuracy_pred(pred, test2):\n",
    "  prediction_true = 0\n",
    "  for i in range(len(pred)):\n",
    "    if pred[i]==test2[i]:\n",
    "      prediction_true += 1\n",
    "  return (prediction_true/len(pred))*100.0"
   ]
  },
  {
   "cell_type": "code",
   "execution_count": null,
   "metadata": {},
   "outputs": [],
   "source": [
    "def acc(number): # Main function \n",
    "  pred = k_neighbors(X_t,X_test,number)\n",
    "  # print(pred)\n",
    "  return pred"
   ]
  },
  {
   "cell_type": "code",
   "execution_count": null,
   "metadata": {},
   "outputs": [],
   "source": [
    "from sklearn.metrics import confusion_matrix\n",
    "\n",
    "start = time.time()\n",
    "pred = acc(7)  #Main function call\n",
    "model_acc = accuracy_pred(pred,Y_test)\n",
    "end = time.time()\n",
    "print(\"Model accuracy: \"+str(model_acc))\n",
    "print(\"Time taken: \"+ str(end-start))\n",
    "\n",
    "m =confusion_matrix(Y_test,pred)\n",
    "p = sns.heatmap(pd.DataFrame(m), annot=True, cmap=\"Greens\" ,fmt='g')\n",
    "plt.title('Confusion Matrix')\n",
    "plt.ylabel('Actual')\n",
    "plt.xlabel('Predicted')"
   ]
  },
  {
   "cell_type": "code",
   "execution_count": null,
   "metadata": {},
   "outputs": [],
   "source": [
    "FN =(np.sum(m[1])-m[1][1]) # Sum of the numbers above the diagonal for the given digit( digit in the dark green square)\n",
    "FP =(np.sum(m[:,1])-m[1][1]) # Sum of the numbers below the diagonal for the given digit( digit in the dark green square)\n",
    "TP_TN = (np.sum(np.diagonal(m)))  # Sum of diagonal will give TP+TN\n",
    "\n",
    "acc2 = TP_TN/(TP_TN + FP+FN)*100.0\n",
    "print(\"Accuracy of number '1' is \"+str(acc2))"
   ]
  },
  {
   "cell_type": "code",
   "execution_count": null,
   "metadata": {},
   "outputs": [],
   "source": [
    "for x in range(3,20,4):\n",
    "    start= time.time()\n",
    "    pred =acc(x)\n",
    "    model_acc= accuracy_pred(pred,Y_test)\n",
    "    end =time.time()\n",
    "    \n",
    "    m =confusion_matrix(Y_test,pred)\n",
    "    FN =(np.sum(m[1])-m[1][1]) \n",
    "    FP =(np.sum(m[:,1])-m[1][1]) \n",
    "    TP_TN = (np.sum(np.diagonal(m)))  \n",
    "    \n",
    "    acc2 = TP_TN/(TP_TN + FP+FN)*100.0\n",
    "    print(\"Accuracy of number '1' for k = \"+str(x)+\" is: \"+str(acc2))\n",
    "    print(\"Time taken: \"+ str(end-start))"
   ]
  },
  {
   "cell_type": "code",
   "execution_count": null,
   "metadata": {},
   "outputs": [],
   "source": []
  }
 ],
 "metadata": {
  "kernelspec": {
   "display_name": "Python 3",
   "language": "python",
   "name": "python3"
  },
  "language_info": {
   "codemirror_mode": {
    "name": "ipython",
    "version": 3
   },
   "file_extension": ".py",
   "mimetype": "text/x-python",
   "name": "python",
   "nbconvert_exporter": "python",
   "pygments_lexer": "ipython3",
   "version": "3.7.4"
  }
 },
 "nbformat": 4,
 "nbformat_minor": 2
}
