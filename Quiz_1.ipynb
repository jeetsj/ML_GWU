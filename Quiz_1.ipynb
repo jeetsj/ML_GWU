{
  "nbformat": 4,
  "nbformat_minor": 0,
  "metadata": {
    "colab": {
      "name": "Quiz-1",
      "provenance": [],
      "authorship_tag": "ABX9TyM4h13+3YTPGo1e3cg8YvB3",
      "include_colab_link": true
    },
    "kernelspec": {
      "name": "python3",
      "display_name": "Python 3"
    }
  },
  "cells": [
    {
      "cell_type": "markdown",
      "metadata": {
        "id": "view-in-github",
        "colab_type": "text"
      },
      "source": [
        "<a href=\"https://colab.research.google.com/github/jeetsj/quiz-1/blob/master/Quiz_1.ipynb\" target=\"_parent\"><img src=\"https://colab.research.google.com/assets/colab-badge.svg\" alt=\"Open In Colab\"/></a>"
      ]
    },
    {
      "cell_type": "markdown",
      "metadata": {
        "id": "nmbEwzHBJ-jQ",
        "colab_type": "text"
      },
      "source": [
        "# Problem Statement\n",
        "## Predicting if a person has cancer or not.\n",
        "Here, we will be predicting if the person has cancer or not. If a person has cancer then it will be denoted by \"1\" and the other case will be denoted by \"0\".In one array(Actual) there will be actual diagnosis results of the patients. In second array(Predicted) there will be predicted result.\n",
        "\n",
        "##Solution: \n",
        "\n",
        "Here, our model should not mispredict actual positive cases because if an actual positive case is predicted to be not positive then that patient won't get\n",
        "treatment. So, false negative cases should be as less as possible. Hence, Recall of our model should be as high as possible without precision being too bad.\n",
        "\n"
      ]
    },
    {
      "cell_type": "markdown",
      "metadata": {
        "id": "1lvvrW-xPQ2p",
        "colab_type": "text"
      },
      "source": [
        "Input:"
      ]
    },
    {
      "cell_type": "code",
      "metadata": {
        "id": "Eqrikx8BKNmE",
        "colab_type": "code",
        "colab": {}
      },
      "source": [
        "actual = [1,0,0,1,1,0,0,0,1,0,1,1,0,1,1,0,0,1,0,0,0,1,1,1,0,0,1,1,1,0,1,0,0,0,1,0,1,1,0,0,0,1,1,0,1,1,0,1,0,1,0,0,0,0,0,1,1,1,0,1,1,1,1,0,0,1,1,1,0,1,0,0]\n",
        "predicted = [1,1,0,0,0,1,0,1,1,0,0,0,1,1,1,1,0,1,1,1,0,0,0,1,1,0,1,1,0,0,0,1,1,1,1,0,1,1,1,0,1,1,0,1,0,1,0,0,0,0,0,0,1,0,0,1,0,0,0,1,0,1,1,0,1,0,0,1,1,1,0,1]"
      ],
      "execution_count": 13,
      "outputs": []
    },
    {
      "cell_type": "markdown",
      "metadata": {
        "id": "sg0Ip_pUPDRB",
        "colab_type": "text"
      },
      "source": [
        "## Confusion Matrix\n",
        "This is a matrix where first raw gives TP, FP and second raw shows FN, TN respectively."
      ]
    },
    {
      "cell_type": "code",
      "metadata": {
        "id": "WWmR8edKPJ1l",
        "colab_type": "code",
        "colab": {
          "base_uri": "https://localhost:8080/",
          "height": 50
        },
        "outputId": "1aad8e20-b7dd-48e8-8a2a-2759b47d6fd5"
      },
      "source": [
        "from sklearn.metrics import confusion_matrix\n",
        "confusion_matrix(actual, predicted)"
      ],
      "execution_count": 14,
      "outputs": [
        {
          "output_type": "execute_result",
          "data": {
            "text/plain": [
              "array([[18, 18],\n",
              "       [17, 19]])"
            ]
          },
          "metadata": {
            "tags": []
          },
          "execution_count": 14
        }
      ]
    },
    {
      "cell_type": "markdown",
      "metadata": {
        "id": "4gYBrSEZP-ho",
        "colab_type": "text"
      },
      "source": [
        "## Precision\n",
        "Precision = TP/(FP+TP)\n",
        "\n",
        "Precision means what proportion of patients that we diagnosed as having cancer, actually had cancer. Here, it is around 0.51."
      ]
    },
    {
      "cell_type": "code",
      "metadata": {
        "id": "FclG8BfMQD1V",
        "colab_type": "code",
        "colab": {
          "base_uri": "https://localhost:8080/",
          "height": 34
        },
        "outputId": "026109d4-5932-4d22-efb8-c208826a430d"
      },
      "source": [
        "from sklearn.metrics import precision_score\n",
        "precision_score(actual, predicted)\n"
      ],
      "execution_count": 15,
      "outputs": [
        {
          "output_type": "execute_result",
          "data": {
            "text/plain": [
              "0.5135135135135135"
            ]
          },
          "metadata": {
            "tags": []
          },
          "execution_count": 15
        }
      ]
    },
    {
      "cell_type": "markdown",
      "metadata": {
        "id": "avZGACawR2zp",
        "colab_type": "text"
      },
      "source": [
        "# Accuracy\n",
        "Accuracy = ( TP + TN )/ ( TP + FN + FP + TN )\n",
        "\n",
        "Accuracy is the number of correct predictions over all kinds predictions made."
      ]
    },
    {
      "cell_type": "code",
      "metadata": {
        "id": "Am1ttZKjSjGc",
        "colab_type": "code",
        "colab": {
          "base_uri": "https://localhost:8080/",
          "height": 34
        },
        "outputId": "8200ecaa-0e15-480f-fe51-0ea7cd62b2f8"
      },
      "source": [
        "from sklearn.metrics import accuracy_score\n",
        "accuracy_score(actual , predicted)"
      ],
      "execution_count": 16,
      "outputs": [
        {
          "output_type": "execute_result",
          "data": {
            "text/plain": [
              "0.5138888888888888"
            ]
          },
          "metadata": {
            "tags": []
          },
          "execution_count": 16
        }
      ]
    },
    {
      "cell_type": "markdown",
      "metadata": {
        "id": "2peobayBTOSy",
        "colab_type": "text"
      },
      "source": [
        "## Recall\n",
        "Recall = TP / (TP+FN)\n",
        "\n",
        "Recall tells us what proportion of patients that actually had cancer was diagnosed as having cancer."
      ]
    },
    {
      "cell_type": "code",
      "metadata": {
        "id": "n57SHCT8Tzcq",
        "colab_type": "code",
        "colab": {
          "base_uri": "https://localhost:8080/",
          "height": 34
        },
        "outputId": "ac331b03-50e4-4666-8cb0-6302c06e7742"
      },
      "source": [
        "from sklearn.metrics import recall_score\n",
        "recall_score(actual, predicted)\n"
      ],
      "execution_count": 17,
      "outputs": [
        {
          "output_type": "execute_result",
          "data": {
            "text/plain": [
              "0.5277777777777778"
            ]
          },
          "metadata": {
            "tags": []
          },
          "execution_count": 17
        }
      ]
    },
    {
      "cell_type": "markdown",
      "metadata": {
        "id": "TgEBczq8T_-D",
        "colab_type": "text"
      },
      "source": [
        "## F1 Score\n",
        "F1 score represents both Precision and Recall. Here, we take harmonic mean of Precision and Recall.\n",
        "\n",
        "F1 Score = 2 * Precision * Recall / (Precision + Recall)"
      ]
    },
    {
      "cell_type": "code",
      "metadata": {
        "id": "lYesOw4FVEBJ",
        "colab_type": "code",
        "colab": {
          "base_uri": "https://localhost:8080/",
          "height": 34
        },
        "outputId": "07dce793-a408-43b9-98ae-c76e135efd44"
      },
      "source": [
        "from sklearn.metrics import f1_score\n",
        "f1_score(actual, predicted)\n"
      ],
      "execution_count": 18,
      "outputs": [
        {
          "output_type": "execute_result",
          "data": {
            "text/plain": [
              "0.5205479452054794"
            ]
          },
          "metadata": {
            "tags": []
          },
          "execution_count": 18
        }
      ]
    }
  ]
}