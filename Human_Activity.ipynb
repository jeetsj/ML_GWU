{
  "nbformat": 4,
  "nbformat_minor": 0,
  "metadata": {
    "colab": {
      "name": "Human_Activity.ipynb",
      "provenance": [],
      "collapsed_sections": [],
      "mount_file_id": "1-ugEARkk1u81Sq0sj-n5jqJavlOoSRg4",
      "authorship_tag": "ABX9TyPjAkjw4U2hKLG5i8aj2K3v",
      "include_colab_link": true
    },
    "kernelspec": {
      "name": "python3",
      "display_name": "Python 3"
    }
  },
  "cells": [
    {
      "cell_type": "markdown",
      "metadata": {
        "id": "view-in-github",
        "colab_type": "text"
      },
      "source": [
        "<a href=\"https://colab.research.google.com/github/jeetsj/ML_GWU/blob/master/Human_Activity.ipynb\" target=\"_parent\"><img src=\"https://colab.research.google.com/assets/colab-badge.svg\" alt=\"Open In Colab\"/></a>"
      ]
    },
    {
      "cell_type": "code",
      "metadata": {
        "id": "Y6ETaNAkAvDp"
      },
      "source": [
        "import pandas as pd\n",
        "import numpy as np\n",
        "from sklearn.metrics.cluster import homogeneity_score\n",
        "from sklearn.metrics.cluster import completeness_score\n",
        "from sklearn.metrics.cluster import v_measure_score\n",
        "from sklearn.metrics.cluster import silhouette_score\n",
        "import matplotlib.pyplot as plt \n",
        "np.random.seed(21)"
      ],
      "execution_count": 32,
      "outputs": []
    },
    {
      "cell_type": "code",
      "metadata": {
        "colab": {
          "base_uri": "https://localhost:8080/",
          "height": 244
        },
        "id": "X1iTUTkdCIJ5",
        "outputId": "a0e97088-bc8b-4f1e-bbdb-9178d81a11ef"
      },
      "source": [
        "data = pd.read_csv(\"/content/drive/MyDrive/ML_Course/ML_project3/human_train.csv\")\n",
        "data.head(5)"
      ],
      "execution_count": 33,
      "outputs": [
        {
          "output_type": "execute_result",
          "data": {
            "text/html": [
              "<div>\n",
              "<style scoped>\n",
              "    .dataframe tbody tr th:only-of-type {\n",
              "        vertical-align: middle;\n",
              "    }\n",
              "\n",
              "    .dataframe tbody tr th {\n",
              "        vertical-align: top;\n",
              "    }\n",
              "\n",
              "    .dataframe thead th {\n",
              "        text-align: right;\n",
              "    }\n",
              "</style>\n",
              "<table border=\"1\" class=\"dataframe\">\n",
              "  <thead>\n",
              "    <tr style=\"text-align: right;\">\n",
              "      <th></th>\n",
              "      <th>rn</th>\n",
              "      <th>activity</th>\n",
              "      <th>tBodyAcc.mean.X</th>\n",
              "      <th>tBodyAcc.mean.Y</th>\n",
              "      <th>tBodyAcc.mean.Z</th>\n",
              "      <th>tBodyAcc.std.X</th>\n",
              "      <th>tBodyAcc.std.Y</th>\n",
              "      <th>tBodyAcc.std.Z</th>\n",
              "      <th>tBodyAcc.mad.X</th>\n",
              "      <th>tBodyAcc.mad.Y</th>\n",
              "      <th>tBodyAcc.mad.Z</th>\n",
              "      <th>tBodyAcc.max.X</th>\n",
              "      <th>tBodyAcc.max.Y</th>\n",
              "      <th>tBodyAcc.max.Z</th>\n",
              "      <th>tBodyAcc.min.X</th>\n",
              "      <th>tBodyAcc.min.Y</th>\n",
              "      <th>tBodyAcc.min.Z</th>\n",
              "      <th>tBodyAcc.sma</th>\n",
              "      <th>tBodyAcc.energy.X</th>\n",
              "      <th>tBodyAcc.energy.Y</th>\n",
              "      <th>tBodyAcc.energy.Z</th>\n",
              "      <th>tBodyAcc.iqr.X</th>\n",
              "      <th>tBodyAcc.iqr.Y</th>\n",
              "      <th>tBodyAcc.iqr.Z</th>\n",
              "      <th>tBodyAcc.entropy.X</th>\n",
              "      <th>tBodyAcc.entropy.Y</th>\n",
              "      <th>tBodyAcc.entropy.Z</th>\n",
              "      <th>tBodyAcc.arCoeff.X.1</th>\n",
              "      <th>tBodyAcc.arCoeff.X.2</th>\n",
              "      <th>tBodyAcc.arCoeff.X.3</th>\n",
              "      <th>tBodyAcc.arCoeff.X.4</th>\n",
              "      <th>tBodyAcc.arCoeff.Y.1</th>\n",
              "      <th>tBodyAcc.arCoeff.Y.2</th>\n",
              "      <th>tBodyAcc.arCoeff.Y.3</th>\n",
              "      <th>tBodyAcc.arCoeff.Y.4</th>\n",
              "      <th>tBodyAcc.arCoeff.Z.1</th>\n",
              "      <th>tBodyAcc.arCoeff.Z.2</th>\n",
              "      <th>tBodyAcc.arCoeff.Z.3</th>\n",
              "      <th>tBodyAcc.arCoeff.Z.4</th>\n",
              "      <th>tBodyAcc.correlation.X.Y</th>\n",
              "      <th>...</th>\n",
              "      <th>fBodyBodyAccJerkMag.energy</th>\n",
              "      <th>fBodyBodyAccJerkMag.iqr</th>\n",
              "      <th>fBodyBodyAccJerkMag.entropy</th>\n",
              "      <th>fBodyBodyAccJerkMag.maxInds</th>\n",
              "      <th>fBodyBodyAccJerkMag.meanFreq</th>\n",
              "      <th>fBodyBodyAccJerkMag.skewness</th>\n",
              "      <th>fBodyBodyAccJerkMag.kurtosis</th>\n",
              "      <th>fBodyBodyGyroMag.mean</th>\n",
              "      <th>fBodyBodyGyroMag.std</th>\n",
              "      <th>fBodyBodyGyroMag.mad</th>\n",
              "      <th>fBodyBodyGyroMag.max</th>\n",
              "      <th>fBodyBodyGyroMag.min</th>\n",
              "      <th>fBodyBodyGyroMag.sma</th>\n",
              "      <th>fBodyBodyGyroMag.energy</th>\n",
              "      <th>fBodyBodyGyroMag.iqr</th>\n",
              "      <th>fBodyBodyGyroMag.entropy</th>\n",
              "      <th>fBodyBodyGyroMag.maxInds</th>\n",
              "      <th>fBodyBodyGyroMag.meanFreq</th>\n",
              "      <th>fBodyBodyGyroMag.skewness</th>\n",
              "      <th>fBodyBodyGyroMag.kurtosis</th>\n",
              "      <th>fBodyBodyGyroJerkMag.mean</th>\n",
              "      <th>fBodyBodyGyroJerkMag.std</th>\n",
              "      <th>fBodyBodyGyroJerkMag.mad</th>\n",
              "      <th>fBodyBodyGyroJerkMag.max</th>\n",
              "      <th>fBodyBodyGyroJerkMag.min</th>\n",
              "      <th>fBodyBodyGyroJerkMag.sma</th>\n",
              "      <th>fBodyBodyGyroJerkMag.energy</th>\n",
              "      <th>fBodyBodyGyroJerkMag.iqr</th>\n",
              "      <th>fBodyBodyGyroJerkMag.entropy</th>\n",
              "      <th>fBodyBodyGyroJerkMag.maxInds</th>\n",
              "      <th>fBodyBodyGyroJerkMag.meanFreq</th>\n",
              "      <th>fBodyBodyGyroJerkMag.skewness</th>\n",
              "      <th>fBodyBodyGyroJerkMag.kurtosis</th>\n",
              "      <th>angle.tBodyAccMean.gravity</th>\n",
              "      <th>angle.tBodyAccJerkMean.gravityMean</th>\n",
              "      <th>angle.tBodyGyroMean.gravityMean</th>\n",
              "      <th>angle.tBodyGyroJerkMean.gravityMean</th>\n",
              "      <th>angle.X.gravityMean</th>\n",
              "      <th>angle.Y.gravityMean</th>\n",
              "      <th>angle.Z.gravityMean</th>\n",
              "    </tr>\n",
              "  </thead>\n",
              "  <tbody>\n",
              "    <tr>\n",
              "      <th>0</th>\n",
              "      <td>7</td>\n",
              "      <td>STANDING</td>\n",
              "      <td>0.279</td>\n",
              "      <td>-0.0196</td>\n",
              "      <td>-0.1100</td>\n",
              "      <td>-0.997</td>\n",
              "      <td>-0.967</td>\n",
              "      <td>-0.983</td>\n",
              "      <td>-0.997</td>\n",
              "      <td>-0.966</td>\n",
              "      <td>-0.983</td>\n",
              "      <td>-0.941</td>\n",
              "      <td>-0.566</td>\n",
              "      <td>-0.817</td>\n",
              "      <td>0.851</td>\n",
              "      <td>0.674</td>\n",
              "      <td>0.834</td>\n",
              "      <td>-0.987</td>\n",
              "      <td>-1.0</td>\n",
              "      <td>-1.000</td>\n",
              "      <td>-1.000</td>\n",
              "      <td>-0.997</td>\n",
              "      <td>-0.972</td>\n",
              "      <td>-0.983</td>\n",
              "      <td>-0.637</td>\n",
              "      <td>-0.5150</td>\n",
              "      <td>-0.537</td>\n",
              "      <td>0.360</td>\n",
              "      <td>-0.233</td>\n",
              "      <td>0.2260</td>\n",
              "      <td>0.0695</td>\n",
              "      <td>0.0643</td>\n",
              "      <td>-0.0764</td>\n",
              "      <td>0.138</td>\n",
              "      <td>-0.0368</td>\n",
              "      <td>0.231</td>\n",
              "      <td>-0.1150</td>\n",
              "      <td>0.3190</td>\n",
              "      <td>-0.48800</td>\n",
              "      <td>-0.0959</td>\n",
              "      <td>...</td>\n",
              "      <td>-1.0</td>\n",
              "      <td>-0.991</td>\n",
              "      <td>-1.0</td>\n",
              "      <td>-0.905</td>\n",
              "      <td>0.290</td>\n",
              "      <td>-0.669</td>\n",
              "      <td>-0.933</td>\n",
              "      <td>-0.988</td>\n",
              "      <td>-0.985</td>\n",
              "      <td>-0.984</td>\n",
              "      <td>-0.985</td>\n",
              "      <td>-0.995</td>\n",
              "      <td>-0.988</td>\n",
              "      <td>-1.000</td>\n",
              "      <td>-0.989</td>\n",
              "      <td>-0.736</td>\n",
              "      <td>-1.000</td>\n",
              "      <td>-0.2570</td>\n",
              "      <td>-0.32200</td>\n",
              "      <td>-0.6580</td>\n",
              "      <td>-0.996</td>\n",
              "      <td>-0.995</td>\n",
              "      <td>-0.994</td>\n",
              "      <td>-0.994</td>\n",
              "      <td>-0.997</td>\n",
              "      <td>-0.996</td>\n",
              "      <td>-1.0</td>\n",
              "      <td>-0.994</td>\n",
              "      <td>-0.956</td>\n",
              "      <td>-1.000</td>\n",
              "      <td>0.146</td>\n",
              "      <td>-0.217</td>\n",
              "      <td>-0.5640</td>\n",
              "      <td>-0.2130</td>\n",
              "      <td>-0.2310</td>\n",
              "      <td>0.0146</td>\n",
              "      <td>-0.190</td>\n",
              "      <td>-0.852</td>\n",
              "      <td>0.182</td>\n",
              "      <td>-0.0430</td>\n",
              "    </tr>\n",
              "    <tr>\n",
              "      <th>1</th>\n",
              "      <td>11</td>\n",
              "      <td>STANDING</td>\n",
              "      <td>0.277</td>\n",
              "      <td>-0.0127</td>\n",
              "      <td>-0.1030</td>\n",
              "      <td>-0.995</td>\n",
              "      <td>-0.973</td>\n",
              "      <td>-0.985</td>\n",
              "      <td>-0.996</td>\n",
              "      <td>-0.974</td>\n",
              "      <td>-0.985</td>\n",
              "      <td>-0.940</td>\n",
              "      <td>-0.555</td>\n",
              "      <td>-0.816</td>\n",
              "      <td>0.845</td>\n",
              "      <td>0.685</td>\n",
              "      <td>0.838</td>\n",
              "      <td>-0.988</td>\n",
              "      <td>-1.0</td>\n",
              "      <td>-1.000</td>\n",
              "      <td>-1.000</td>\n",
              "      <td>-0.996</td>\n",
              "      <td>-0.980</td>\n",
              "      <td>-0.983</td>\n",
              "      <td>-0.629</td>\n",
              "      <td>-0.3970</td>\n",
              "      <td>-0.424</td>\n",
              "      <td>0.346</td>\n",
              "      <td>-0.174</td>\n",
              "      <td>0.1780</td>\n",
              "      <td>0.1690</td>\n",
              "      <td>-0.0202</td>\n",
              "      <td>0.1360</td>\n",
              "      <td>-0.114</td>\n",
              "      <td>0.2430</td>\n",
              "      <td>0.301</td>\n",
              "      <td>-0.0764</td>\n",
              "      <td>0.0820</td>\n",
              "      <td>0.15300</td>\n",
              "      <td>0.0085</td>\n",
              "      <td>...</td>\n",
              "      <td>-1.0</td>\n",
              "      <td>-0.984</td>\n",
              "      <td>-1.0</td>\n",
              "      <td>-1.000</td>\n",
              "      <td>0.502</td>\n",
              "      <td>-0.517</td>\n",
              "      <td>-0.786</td>\n",
              "      <td>-0.983</td>\n",
              "      <td>-0.981</td>\n",
              "      <td>-0.982</td>\n",
              "      <td>-0.979</td>\n",
              "      <td>-0.987</td>\n",
              "      <td>-0.983</td>\n",
              "      <td>-1.000</td>\n",
              "      <td>-0.981</td>\n",
              "      <td>-0.641</td>\n",
              "      <td>-1.000</td>\n",
              "      <td>-0.0472</td>\n",
              "      <td>0.00787</td>\n",
              "      <td>-0.2840</td>\n",
              "      <td>-0.991</td>\n",
              "      <td>-0.989</td>\n",
              "      <td>-0.991</td>\n",
              "      <td>-0.987</td>\n",
              "      <td>-0.980</td>\n",
              "      <td>-0.991</td>\n",
              "      <td>-1.0</td>\n",
              "      <td>-0.992</td>\n",
              "      <td>-0.923</td>\n",
              "      <td>-1.000</td>\n",
              "      <td>0.121</td>\n",
              "      <td>0.349</td>\n",
              "      <td>0.0577</td>\n",
              "      <td>0.0807</td>\n",
              "      <td>0.5960</td>\n",
              "      <td>-0.4760</td>\n",
              "      <td>0.116</td>\n",
              "      <td>-0.852</td>\n",
              "      <td>0.188</td>\n",
              "      <td>-0.0347</td>\n",
              "    </tr>\n",
              "    <tr>\n",
              "      <th>2</th>\n",
              "      <td>14</td>\n",
              "      <td>STANDING</td>\n",
              "      <td>0.277</td>\n",
              "      <td>-0.0147</td>\n",
              "      <td>-0.1070</td>\n",
              "      <td>-0.999</td>\n",
              "      <td>-0.991</td>\n",
              "      <td>-0.993</td>\n",
              "      <td>-0.999</td>\n",
              "      <td>-0.991</td>\n",
              "      <td>-0.992</td>\n",
              "      <td>-0.943</td>\n",
              "      <td>-0.569</td>\n",
              "      <td>-0.823</td>\n",
              "      <td>0.852</td>\n",
              "      <td>0.693</td>\n",
              "      <td>0.846</td>\n",
              "      <td>-0.997</td>\n",
              "      <td>-1.0</td>\n",
              "      <td>-1.000</td>\n",
              "      <td>-1.000</td>\n",
              "      <td>-0.998</td>\n",
              "      <td>-0.993</td>\n",
              "      <td>-0.990</td>\n",
              "      <td>-0.888</td>\n",
              "      <td>-0.5540</td>\n",
              "      <td>-0.551</td>\n",
              "      <td>0.412</td>\n",
              "      <td>-0.128</td>\n",
              "      <td>0.2650</td>\n",
              "      <td>0.0677</td>\n",
              "      <td>0.2890</td>\n",
              "      <td>-0.2410</td>\n",
              "      <td>0.315</td>\n",
              "      <td>-0.1520</td>\n",
              "      <td>0.181</td>\n",
              "      <td>0.0504</td>\n",
              "      <td>-0.0398</td>\n",
              "      <td>-0.00999</td>\n",
              "      <td>0.0436</td>\n",
              "      <td>...</td>\n",
              "      <td>-1.0</td>\n",
              "      <td>-0.994</td>\n",
              "      <td>-1.0</td>\n",
              "      <td>-0.905</td>\n",
              "      <td>0.530</td>\n",
              "      <td>-0.606</td>\n",
              "      <td>-0.869</td>\n",
              "      <td>-0.999</td>\n",
              "      <td>-0.998</td>\n",
              "      <td>-0.998</td>\n",
              "      <td>-0.999</td>\n",
              "      <td>-0.998</td>\n",
              "      <td>-0.999</td>\n",
              "      <td>-1.000</td>\n",
              "      <td>-0.996</td>\n",
              "      <td>-1.000</td>\n",
              "      <td>-0.949</td>\n",
              "      <td>0.3250</td>\n",
              "      <td>-0.75900</td>\n",
              "      <td>-0.9420</td>\n",
              "      <td>-0.999</td>\n",
              "      <td>-0.999</td>\n",
              "      <td>-0.999</td>\n",
              "      <td>-0.999</td>\n",
              "      <td>-0.995</td>\n",
              "      <td>-0.999</td>\n",
              "      <td>-1.0</td>\n",
              "      <td>-0.999</td>\n",
              "      <td>-1.000</td>\n",
              "      <td>-0.968</td>\n",
              "      <td>0.740</td>\n",
              "      <td>-0.564</td>\n",
              "      <td>-0.7660</td>\n",
              "      <td>0.1060</td>\n",
              "      <td>-0.0903</td>\n",
              "      <td>-0.1320</td>\n",
              "      <td>0.499</td>\n",
              "      <td>-0.850</td>\n",
              "      <td>0.189</td>\n",
              "      <td>-0.0351</td>\n",
              "    </tr>\n",
              "    <tr>\n",
              "      <th>3</th>\n",
              "      <td>15</td>\n",
              "      <td>STANDING</td>\n",
              "      <td>0.298</td>\n",
              "      <td>0.0271</td>\n",
              "      <td>-0.0617</td>\n",
              "      <td>-0.989</td>\n",
              "      <td>-0.817</td>\n",
              "      <td>-0.902</td>\n",
              "      <td>-0.989</td>\n",
              "      <td>-0.794</td>\n",
              "      <td>-0.888</td>\n",
              "      <td>-0.926</td>\n",
              "      <td>-0.448</td>\n",
              "      <td>-0.731</td>\n",
              "      <td>0.849</td>\n",
              "      <td>0.681</td>\n",
              "      <td>0.838</td>\n",
              "      <td>-0.904</td>\n",
              "      <td>-1.0</td>\n",
              "      <td>-0.989</td>\n",
              "      <td>-0.991</td>\n",
              "      <td>-0.989</td>\n",
              "      <td>-0.770</td>\n",
              "      <td>-0.869</td>\n",
              "      <td>-0.163</td>\n",
              "      <td>0.0546</td>\n",
              "      <td>0.073</td>\n",
              "      <td>0.158</td>\n",
              "      <td>-0.160</td>\n",
              "      <td>0.1900</td>\n",
              "      <td>-0.3220</td>\n",
              "      <td>-0.3150</td>\n",
              "      <td>0.2790</td>\n",
              "      <td>-0.307</td>\n",
              "      <td>0.3430</td>\n",
              "      <td>-0.083</td>\n",
              "      <td>0.0273</td>\n",
              "      <td>-0.0465</td>\n",
              "      <td>-0.08650</td>\n",
              "      <td>0.8220</td>\n",
              "      <td>...</td>\n",
              "      <td>-1.0</td>\n",
              "      <td>-0.984</td>\n",
              "      <td>-1.0</td>\n",
              "      <td>-1.000</td>\n",
              "      <td>0.169</td>\n",
              "      <td>-0.522</td>\n",
              "      <td>-0.818</td>\n",
              "      <td>-0.911</td>\n",
              "      <td>-0.884</td>\n",
              "      <td>-0.898</td>\n",
              "      <td>-0.880</td>\n",
              "      <td>-0.847</td>\n",
              "      <td>-0.911</td>\n",
              "      <td>-0.993</td>\n",
              "      <td>-0.956</td>\n",
              "      <td>-0.387</td>\n",
              "      <td>-1.000</td>\n",
              "      <td>-0.1730</td>\n",
              "      <td>0.07620</td>\n",
              "      <td>-0.3040</td>\n",
              "      <td>-0.990</td>\n",
              "      <td>-0.989</td>\n",
              "      <td>-0.990</td>\n",
              "      <td>-0.987</td>\n",
              "      <td>-0.999</td>\n",
              "      <td>-0.990</td>\n",
              "      <td>-1.0</td>\n",
              "      <td>-0.992</td>\n",
              "      <td>-0.923</td>\n",
              "      <td>-1.000</td>\n",
              "      <td>0.131</td>\n",
              "      <td>0.208</td>\n",
              "      <td>-0.0681</td>\n",
              "      <td>0.0623</td>\n",
              "      <td>-0.0587</td>\n",
              "      <td>0.0312</td>\n",
              "      <td>-0.269</td>\n",
              "      <td>-0.731</td>\n",
              "      <td>0.283</td>\n",
              "      <td>0.0364</td>\n",
              "    </tr>\n",
              "    <tr>\n",
              "      <th>4</th>\n",
              "      <td>20</td>\n",
              "      <td>STANDING</td>\n",
              "      <td>0.276</td>\n",
              "      <td>-0.0170</td>\n",
              "      <td>-0.1110</td>\n",
              "      <td>-0.998</td>\n",
              "      <td>-0.991</td>\n",
              "      <td>-0.998</td>\n",
              "      <td>-0.998</td>\n",
              "      <td>-0.989</td>\n",
              "      <td>-0.997</td>\n",
              "      <td>-0.946</td>\n",
              "      <td>-0.573</td>\n",
              "      <td>-0.827</td>\n",
              "      <td>0.847</td>\n",
              "      <td>0.693</td>\n",
              "      <td>0.848</td>\n",
              "      <td>-0.997</td>\n",
              "      <td>-1.0</td>\n",
              "      <td>-1.000</td>\n",
              "      <td>-1.000</td>\n",
              "      <td>-0.998</td>\n",
              "      <td>-0.990</td>\n",
              "      <td>-0.994</td>\n",
              "      <td>-0.806</td>\n",
              "      <td>-0.6610</td>\n",
              "      <td>-0.729</td>\n",
              "      <td>0.285</td>\n",
              "      <td>-0.122</td>\n",
              "      <td>-0.0742</td>\n",
              "      <td>0.5360</td>\n",
              "      <td>0.2120</td>\n",
              "      <td>-0.2040</td>\n",
              "      <td>0.416</td>\n",
              "      <td>-0.2720</td>\n",
              "      <td>0.543</td>\n",
              "      <td>-0.3330</td>\n",
              "      <td>0.4020</td>\n",
              "      <td>-0.00912</td>\n",
              "      <td>0.1110</td>\n",
              "      <td>...</td>\n",
              "      <td>-1.0</td>\n",
              "      <td>-0.998</td>\n",
              "      <td>-1.0</td>\n",
              "      <td>-0.556</td>\n",
              "      <td>0.608</td>\n",
              "      <td>-0.771</td>\n",
              "      <td>-0.926</td>\n",
              "      <td>-0.997</td>\n",
              "      <td>-0.995</td>\n",
              "      <td>-0.996</td>\n",
              "      <td>-0.992</td>\n",
              "      <td>-0.999</td>\n",
              "      <td>-0.997</td>\n",
              "      <td>-1.000</td>\n",
              "      <td>-0.997</td>\n",
              "      <td>-0.956</td>\n",
              "      <td>-1.000</td>\n",
              "      <td>-0.0567</td>\n",
              "      <td>0.20700</td>\n",
              "      <td>-0.0231</td>\n",
              "      <td>-1.000</td>\n",
              "      <td>-1.000</td>\n",
              "      <td>-1.000</td>\n",
              "      <td>-1.000</td>\n",
              "      <td>-0.998</td>\n",
              "      <td>-1.000</td>\n",
              "      <td>-1.0</td>\n",
              "      <td>-0.999</td>\n",
              "      <td>-1.000</td>\n",
              "      <td>-0.810</td>\n",
              "      <td>0.667</td>\n",
              "      <td>-0.942</td>\n",
              "      <td>-0.9660</td>\n",
              "      <td>0.2450</td>\n",
              "      <td>0.1030</td>\n",
              "      <td>0.0661</td>\n",
              "      <td>-0.412</td>\n",
              "      <td>-0.761</td>\n",
              "      <td>0.263</td>\n",
              "      <td>0.0296</td>\n",
              "    </tr>\n",
              "  </tbody>\n",
              "</table>\n",
              "<p>5 rows × 563 columns</p>\n",
              "</div>"
            ],
            "text/plain": [
              "   rn  activity  ...  angle.Y.gravityMean  angle.Z.gravityMean\n",
              "0   7  STANDING  ...                0.182              -0.0430\n",
              "1  11  STANDING  ...                0.188              -0.0347\n",
              "2  14  STANDING  ...                0.189              -0.0351\n",
              "3  15  STANDING  ...                0.283               0.0364\n",
              "4  20  STANDING  ...                0.263               0.0296\n",
              "\n",
              "[5 rows x 563 columns]"
            ]
          },
          "metadata": {
            "tags": []
          },
          "execution_count": 33
        }
      ]
    },
    {
      "cell_type": "code",
      "metadata": {
        "colab": {
          "base_uri": "https://localhost:8080/"
        },
        "id": "uBHNNtFkLCQL",
        "outputId": "c0805d93-147c-49fd-dba6-bae2b9455385"
      },
      "source": [
        "labels = data['activity']\n",
        "for i in range(len(labels)):\n",
        "    if (labels[i] == 'STANDING' or labels[i] == 'LAYING' or labels[i] == 'SITTING'):\n",
        "        labels[i] = 0\n",
        "    else:\n",
        "        labels[i] = 1"
      ],
      "execution_count": 34,
      "outputs": [
        {
          "output_type": "stream",
          "text": [
            "/usr/local/lib/python3.6/dist-packages/ipykernel_launcher.py:4: SettingWithCopyWarning: \n",
            "A value is trying to be set on a copy of a slice from a DataFrame\n",
            "\n",
            "See the caveats in the documentation: https://pandas.pydata.org/pandas-docs/stable/user_guide/indexing.html#returning-a-view-versus-a-copy\n",
            "  after removing the cwd from sys.path.\n",
            "/usr/local/lib/python3.6/dist-packages/ipykernel_launcher.py:6: SettingWithCopyWarning: \n",
            "A value is trying to be set on a copy of a slice from a DataFrame\n",
            "\n",
            "See the caveats in the documentation: https://pandas.pydata.org/pandas-docs/stable/user_guide/indexing.html#returning-a-view-versus-a-copy\n",
            "  \n"
          ],
          "name": "stderr"
        }
      ]
    },
    {
      "cell_type": "code",
      "metadata": {
        "id": "PoImjnWvSH8U"
      },
      "source": [
        "data = data.drop(['rn', 'activity'], axis = 1)\n",
        "\n",
        "from sklearn.preprocessing import StandardScaler\n",
        "\n",
        "scaler = StandardScaler()\n",
        "n_data = scaler.fit_transform(data)"
      ],
      "execution_count": 35,
      "outputs": []
    },
    {
      "cell_type": "code",
      "metadata": {
        "id": "-g_XNolGMX0q"
      },
      "source": [
        "labels = np.array(labels.astype(int))"
      ],
      "execution_count": 36,
      "outputs": []
    },
    {
      "cell_type": "code",
      "metadata": {
        "colab": {
          "base_uri": "https://localhost:8080/",
          "height": 508
        },
        "id": "UZHy4Q7TGKSQ",
        "outputId": "e7ca8c13-6fc8-493a-e8fd-20250f7deb4e"
      },
      "source": [
        "from sklearn.cluster import KMeans \n",
        "\n",
        "a = range(1, 10)\n",
        "l = []\n",
        "for k in a:\n",
        "    m = KMeans(n_clusters = k)\n",
        "    m.fit(n_data)\n",
        "    l.append(m.inertia_)\n",
        "plt.figure(figsize=(10,8))\n",
        "plt.xticks(a)\n",
        "plt.xlabel('k - Number of Clusters')\n",
        "plt.ylabel('Inertia')\n",
        "plt.plot(a,l,'-o')\n",
        "plt.show()"
      ],
      "execution_count": 37,
      "outputs": [
        {
          "output_type": "display_data",
          "data": {
            "image/png": "[encoded data removed]",
            "text/plain": [
              "<Figure size 720x576 with 1 Axes>"
            ]
          },
          "metadata": {
            "tags": [],
            "needs_background": "light"
          }
        }
      ]
    },
    {
      "cell_type": "code",
      "metadata": {
        "colab": {
          "base_uri": "https://localhost:8080/"
        },
        "id": "tzE0N1RwHp7A",
        "outputId": "2b13bc2a-306e-430a-bb26-10714f21594b"
      },
      "source": [
        "Kmean = KMeans(2)\n",
        "Kmean.fit(n_data)"
      ],
      "execution_count": 38,
      "outputs": [
        {
          "output_type": "execute_result",
          "data": {
            "text/plain": [
              "KMeans(algorithm='auto', copy_x=True, init='k-means++', max_iter=300,\n",
              "       n_clusters=2, n_init=10, n_jobs=None, precompute_distances='auto',\n",
              "       random_state=None, tol=0.0001, verbose=0)"
            ]
          },
          "metadata": {
            "tags": []
          },
          "execution_count": 38
        }
      ]
    },
    {
      "cell_type": "code",
      "metadata": {
        "colab": {
          "base_uri": "https://localhost:8080/"
        },
        "id": "2cYeVmgyQsIc",
        "outputId": "33e6932c-535d-4514-e65c-7c6dd024b0b4"
      },
      "source": [
        "Kmean.labels_"
      ],
      "execution_count": 39,
      "outputs": [
        {
          "output_type": "execute_result",
          "data": {
            "text/plain": [
              "array([1, 1, 1, ..., 0, 0, 0], dtype=int32)"
            ]
          },
          "metadata": {
            "tags": []
          },
          "execution_count": 39
        }
      ]
    },
    {
      "cell_type": "code",
      "metadata": {
        "colab": {
          "base_uri": "https://localhost:8080/"
        },
        "id": "KYCTK2VeQvJm",
        "outputId": "f1fad282-1d51-4cc8-fa96-63d6fc77a204"
      },
      "source": [
        "Kmean.cluster_centers_"
      ],
      "execution_count": 40,
      "outputs": [
        {
          "output_type": "execute_result",
          "data": {
            "text/plain": [
              "array([[ 0.00989804, -0.07471756, -0.06935285, ..., -0.44733287,\n",
              "         0.5537718 ,  0.49017554],\n",
              "       [-0.00817991,  0.06174787,  0.05731438, ...,  0.36968349,\n",
              "        -0.45764643, -0.4050894 ]])"
            ]
          },
          "metadata": {
            "tags": []
          },
          "execution_count": 40
        }
      ]
    },
    {
      "cell_type": "code",
      "metadata": {
        "colab": {
          "base_uri": "https://localhost:8080/"
        },
        "id": "9ZkfR3dsr18X",
        "outputId": "a37b771b-5559-4649-c7c5-69031fa6cbe8"
      },
      "source": [
        "print(\"Homogeneity_score: \"+str(homogeneity_score(labels,Kmean.predict(n_data))))\n",
        "print(\"Completeness_score: \"+str(completeness_score(labels,Kmean.predict(n_data))))\n",
        "print(\"v_measure_score: \"+str(v_measure_score(labels,Kmean.predict(n_data))))\n",
        "print(\"Inertia: \"+str(Kmean.inertia_))\n",
        "print(\"silhouette_score: \"+str(silhouette_score(n_data, Kmean.predict(n_data), metric='euclidean')))"
      ],
      "execution_count": 41,
      "outputs": [
        {
          "output_type": "stream",
          "text": [
            "Homogeneity_score: 0.977400570620251\n",
            "Completeness_score: 0.977696977792435\n",
            "v_measure_score: 0.977548751737589\n",
            "Inertia: 1156484.008987799\n",
            "silhouette_score: 0.38990168994287766\n"
          ],
          "name": "stdout"
        }
      ]
    },
    {
      "cell_type": "markdown",
      "metadata": {
        "id": "mixFyz4-RJS_"
      },
      "source": [
        "# PCA"
      ]
    },
    {
      "cell_type": "code",
      "metadata": {
        "colab": {
          "base_uri": "https://localhost:8080/"
        },
        "id": "rOYnOMgNurfb",
        "outputId": "661e3c27-11a0-4b51-cdac-6f8842bdd00e"
      },
      "source": [
        "from sklearn.decomposition import PCA \n",
        "  \n",
        "p = PCA(n_components= 2) \n",
        "train = p.fit_transform(n_data) \n",
        "Kmean.fit(train)"
      ],
      "execution_count": 42,
      "outputs": [
        {
          "output_type": "execute_result",
          "data": {
            "text/plain": [
              "KMeans(algorithm='auto', copy_x=True, init='k-means++', max_iter=300,\n",
              "       n_clusters=2, n_init=10, n_jobs=None, precompute_distances='auto',\n",
              "       random_state=None, tol=0.0001, verbose=0)"
            ]
          },
          "metadata": {
            "tags": []
          },
          "execution_count": 42
        }
      ]
    },
    {
      "cell_type": "code",
      "metadata": {
        "colab": {
          "base_uri": "https://localhost:8080/",
          "height": 497
        },
        "id": "ltya3OnNvisv",
        "outputId": "695cda41-cb6f-43cc-c937-6007541a57f8"
      },
      "source": [
        "#checking for optimal features\n",
        "\n",
        "p = PCA(random_state = 21)\n",
        "p.fit(data)\n",
        "feature = range(p.n_components_)\n",
        "plt.figure(figsize=(10, 8))\n",
        "plt.bar(feature[:10], p.explained_variance_[:10], color='red')\n",
        "plt.xticks(feature[:10])\n",
        "plt.xlabel('Features')\n",
        "plt.ylabel('Variance')\n",
        "plt.show()"
      ],
      "execution_count": 43,
      "outputs": [
        {
          "output_type": "display_data",
          "data": {
            "image/png": "[encoded data removed]",
            "text/plain": [
              "<Figure size 720x576 with 1 Axes>"
            ]
          },
          "metadata": {
            "tags": [],
            "needs_background": "light"
          }
        }
      ]
    },
    {
      "cell_type": "code",
      "metadata": {
        "id": "oEfTBEz5w_13"
      },
      "source": [
        "def pca_execution(n):\n",
        "    p = PCA(n_components = n, random_state = 21)\n",
        "    d = p.fit_transform(n_data)\\\n",
        "\n",
        "    Kmean2 = KMeans(2)\n",
        "    Kmean2.fit(d)\n",
        "    \n",
        "    print(\"Homogeneity_score: \"+str(homogeneity_score(labels,Kmean2.predict(d))))\n",
        "    print(\"Completeness_score: \"+str(completeness_score(labels,Kmean2.predict(d))))\n",
        "    print(\"v_measure_score: \"+str(v_measure_score(labels,Kmean2.predict(d))))\n",
        "    print(\"Inertia: \"+str(Kmean2.inertia_))\n",
        "    print(\"silhouette_score: \"+str(silhouette_score(d, Kmean2.predict(d), metric='euclidean')))"
      ],
      "execution_count": 44,
      "outputs": []
    },
    {
      "cell_type": "code",
      "metadata": {
        "colab": {
          "base_uri": "https://localhost:8080/"
        },
        "id": "DREXrjnQxEMD",
        "outputId": "64047481-55b3-4d96-da6e-a9494db5527c"
      },
      "source": [
        "pca_execution(n=1)"
      ],
      "execution_count": 45,
      "outputs": [
        {
          "output_type": "stream",
          "text": [
            "Homogeneity_score: 0.97567693774092\n",
            "Completeness_score: 0.9761994671205917\n",
            "v_measure_score: 0.9759381324885832\n",
            "Inertia: 168716.31233525547\n",
            "silhouette_score: 0.7941361821630101\n"
          ],
          "name": "stdout"
        }
      ]
    }
  ]
}