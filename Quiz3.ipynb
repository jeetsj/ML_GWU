{
  "nbformat": 4,
  "nbformat_minor": 0,
  "metadata": {
    "colab": {
      "name": "Quiz3.ipynb",
      "provenance": [],
      "collapsed_sections": [],
      "mount_file_id": "1MAhz3KJPMU79dNyarXmQgYkdFRJ0vNkf",
      "authorship_tag": "ABX9TyONWoaSpY21cHT04Qrd5McB"
    },
    "kernelspec": {
      "name": "python3",
      "display_name": "Python 3"
    }
  },
  "cells": [
    {
      "cell_type": "code",
      "metadata": {
        "id": "6Yc1weAGs3Pb",
        "outputId": "8402ec3d-d352-48cd-f2df-aa1d7c1f87f0",
        "colab": {
          "base_uri": "https://localhost:8080/",
          "height": 70
        }
      },
      "source": [
        "import numpy as np # linear algebra\n",
        "import pandas as pd # data processing, CSV file I/O (e.g. pd.read_csv)\n",
        "import seaborn as sns # graphs potting \n",
        "import matplotlib.pyplot as plt\n",
        "from sklearn.model_selection import train_test_split\n",
        "from sklearn.linear_model import LinearRegression\n",
        "from sklearn.metrics import r2_score, classification_report\n",
        "from statsmodels.api import OLS\n",
        "\n",
        "import os\n",
        "for dirname, _, filenames in os.walk('/kaggle/input'):\n",
        "    for filename in filenames:\n",
        "        print(os.path.join(dirname, filename))"
      ],
      "execution_count": 1,
      "outputs": [
        {
          "output_type": "stream",
          "text": [
            "/usr/local/lib/python3.6/dist-packages/statsmodels/tools/_testing.py:19: FutureWarning: pandas.util.testing is deprecated. Use the functions in the public API at pandas.testing instead.\n",
            "  import pandas.util.testing as tm\n"
          ],
          "name": "stderr"
        }
      ]
    },
    {
      "cell_type": "code",
      "metadata": {
        "id": "7uEy68Ixt2fb",
        "outputId": "0f6c3c6b-3ebc-4573-a3ff-81a9ddfeb8a2",
        "colab": {
          "base_uri": "https://localhost:8080/",
          "height": 225
        }
      },
      "source": [
        "dataframe = pd.read_csv(\"/content/drive/My Drive/ML_Course/Placement_Data_Full_Class.csv\", index_col=\"sl_no\")\n",
        "dataframe.head()"
      ],
      "execution_count": 2,
      "outputs": [
        {
          "output_type": "execute_result",
          "data": {
            "text/html": [
              "<div>\n",
              "<style scoped>\n",
              "    .dataframe tbody tr th:only-of-type {\n",
              "        vertical-align: middle;\n",
              "    }\n",
              "\n",
              "    .dataframe tbody tr th {\n",
              "        vertical-align: top;\n",
              "    }\n",
              "\n",
              "    .dataframe thead th {\n",
              "        text-align: right;\n",
              "    }\n",
              "</style>\n",
              "<table border=\"1\" class=\"dataframe\">\n",
              "  <thead>\n",
              "    <tr style=\"text-align: right;\">\n",
              "      <th></th>\n",
              "      <th>gender</th>\n",
              "      <th>ssc_p</th>\n",
              "      <th>ssc_b</th>\n",
              "      <th>hsc_p</th>\n",
              "      <th>hsc_b</th>\n",
              "      <th>hsc_s</th>\n",
              "      <th>degree_p</th>\n",
              "      <th>degree_t</th>\n",
              "      <th>workex</th>\n",
              "      <th>etest_p</th>\n",
              "      <th>specialisation</th>\n",
              "      <th>mba_p</th>\n",
              "      <th>status</th>\n",
              "      <th>salary</th>\n",
              "    </tr>\n",
              "    <tr>\n",
              "      <th>sl_no</th>\n",
              "      <th></th>\n",
              "      <th></th>\n",
              "      <th></th>\n",
              "      <th></th>\n",
              "      <th></th>\n",
              "      <th></th>\n",
              "      <th></th>\n",
              "      <th></th>\n",
              "      <th></th>\n",
              "      <th></th>\n",
              "      <th></th>\n",
              "      <th></th>\n",
              "      <th></th>\n",
              "      <th></th>\n",
              "    </tr>\n",
              "  </thead>\n",
              "  <tbody>\n",
              "    <tr>\n",
              "      <th>1</th>\n",
              "      <td>M</td>\n",
              "      <td>67.00</td>\n",
              "      <td>Others</td>\n",
              "      <td>91.00</td>\n",
              "      <td>Others</td>\n",
              "      <td>Commerce</td>\n",
              "      <td>58.00</td>\n",
              "      <td>Sci&amp;Tech</td>\n",
              "      <td>No</td>\n",
              "      <td>55.0</td>\n",
              "      <td>Mkt&amp;HR</td>\n",
              "      <td>58.80</td>\n",
              "      <td>Placed</td>\n",
              "      <td>270000.0</td>\n",
              "    </tr>\n",
              "    <tr>\n",
              "      <th>2</th>\n",
              "      <td>M</td>\n",
              "      <td>79.33</td>\n",
              "      <td>Central</td>\n",
              "      <td>78.33</td>\n",
              "      <td>Others</td>\n",
              "      <td>Science</td>\n",
              "      <td>77.48</td>\n",
              "      <td>Sci&amp;Tech</td>\n",
              "      <td>Yes</td>\n",
              "      <td>86.5</td>\n",
              "      <td>Mkt&amp;Fin</td>\n",
              "      <td>66.28</td>\n",
              "      <td>Placed</td>\n",
              "      <td>200000.0</td>\n",
              "    </tr>\n",
              "    <tr>\n",
              "      <th>3</th>\n",
              "      <td>M</td>\n",
              "      <td>65.00</td>\n",
              "      <td>Central</td>\n",
              "      <td>68.00</td>\n",
              "      <td>Central</td>\n",
              "      <td>Arts</td>\n",
              "      <td>64.00</td>\n",
              "      <td>Comm&amp;Mgmt</td>\n",
              "      <td>No</td>\n",
              "      <td>75.0</td>\n",
              "      <td>Mkt&amp;Fin</td>\n",
              "      <td>57.80</td>\n",
              "      <td>Placed</td>\n",
              "      <td>250000.0</td>\n",
              "    </tr>\n",
              "    <tr>\n",
              "      <th>4</th>\n",
              "      <td>M</td>\n",
              "      <td>56.00</td>\n",
              "      <td>Central</td>\n",
              "      <td>52.00</td>\n",
              "      <td>Central</td>\n",
              "      <td>Science</td>\n",
              "      <td>52.00</td>\n",
              "      <td>Sci&amp;Tech</td>\n",
              "      <td>No</td>\n",
              "      <td>66.0</td>\n",
              "      <td>Mkt&amp;HR</td>\n",
              "      <td>59.43</td>\n",
              "      <td>Not Placed</td>\n",
              "      <td>NaN</td>\n",
              "    </tr>\n",
              "    <tr>\n",
              "      <th>5</th>\n",
              "      <td>M</td>\n",
              "      <td>85.80</td>\n",
              "      <td>Central</td>\n",
              "      <td>73.60</td>\n",
              "      <td>Central</td>\n",
              "      <td>Commerce</td>\n",
              "      <td>73.30</td>\n",
              "      <td>Comm&amp;Mgmt</td>\n",
              "      <td>No</td>\n",
              "      <td>96.8</td>\n",
              "      <td>Mkt&amp;Fin</td>\n",
              "      <td>55.50</td>\n",
              "      <td>Placed</td>\n",
              "      <td>425000.0</td>\n",
              "    </tr>\n",
              "  </tbody>\n",
              "</table>\n",
              "</div>"
            ],
            "text/plain": [
              "      gender  ssc_p    ssc_b  hsc_p  ... specialisation  mba_p      status    salary\n",
              "sl_no                                ...                                            \n",
              "1          M  67.00   Others  91.00  ...         Mkt&HR  58.80      Placed  270000.0\n",
              "2          M  79.33  Central  78.33  ...        Mkt&Fin  66.28      Placed  200000.0\n",
              "3          M  65.00  Central  68.00  ...        Mkt&Fin  57.80      Placed  250000.0\n",
              "4          M  56.00  Central  52.00  ...         Mkt&HR  59.43  Not Placed       NaN\n",
              "5          M  85.80  Central  73.60  ...        Mkt&Fin  55.50      Placed  425000.0\n",
              "\n",
              "[5 rows x 14 columns]"
            ]
          },
          "metadata": {
            "tags": []
          },
          "execution_count": 2
        }
      ]
    },
    {
      "cell_type": "code",
      "metadata": {
        "id": "2JVkGLxRuAvr"
      },
      "source": [
        "#Make copies of dataframe\n",
        "data_reg = dataframe.copy()\n",
        "data_class = dataframe.copy()"
      ],
      "execution_count": 3,
      "outputs": []
    },
    {
      "cell_type": "code",
      "metadata": {
        "id": "eQkaA4jBuF9d",
        "outputId": "46276b0b-8a7d-4c3a-d94c-ffec86c08db6",
        "colab": {
          "base_uri": "https://localhost:8080/",
          "height": 279
        }
      },
      "source": [
        "sns.kdeplot(dataframe.mba_p[ dataframe.gender==\"M\"])\n",
        "sns.kdeplot(dataframe.mba_p[ dataframe.gender==\"F\"])\n",
        "plt.legend([\"Male\", \"Female\"])\n",
        "plt.xlabel(\"mba percentage\")\n",
        "plt.show()"
      ],
      "execution_count": 4,
      "outputs": [
        {
          "output_type": "display_data",
          "data": {
            "image/png": "[encoded data removed]",
            "text/plain": [
              "<Figure size 432x288 with 1 Axes>"
            ]
          },
          "metadata": {
            "tags": [],
            "needs_background": "light"
          }
        }
      ]
    },
    {
      "cell_type": "markdown",
      "metadata": {
        "id": "iCyIXIkKuMOw"
      },
      "source": [
        "**This vizualization shows that Male average score is near to 60, while that of Female is near to 65.**"
      ]
    },
    {
      "cell_type": "code",
      "metadata": {
        "id": "ouhRZ-pivtmJ",
        "outputId": "93abf303-3140-4a5b-df6d-06355b248934",
        "colab": {
          "base_uri": "https://localhost:8080/",
          "height": 379
        }
      },
      "source": [
        "matrix = dataframe.corr()\n",
        "plt.figure(figsize=(8,6))\n",
        "#plot heat map\n",
        "g=sns.heatmap(matrix,annot=True,cmap=\"YlGn_r\")"
      ],
      "execution_count": 5,
      "outputs": [
        {
          "output_type": "display_data",
          "data": {
            "image/png": "[encoded data removed]",
            "text/plain": [
              "<Figure size 576x432 with 2 Axes>"
            ]
          },
          "metadata": {
            "tags": [],
            "needs_background": "light"
          }
        }
      ]
    },
    {
      "cell_type": "code",
      "metadata": {
        "id": "RY5nBoHAwByt",
        "outputId": "97fb4d80-77f2-40dd-9583-3061b85a2de2",
        "colab": {
          "base_uri": "https://localhost:8080/",
          "height": 498
        }
      },
      "source": [
        "plt.figure(figsize=(12,8))\n",
        "sns.regplot(x=\"ssc_p\",y=\"mba_p\",data=dataframe)\n",
        "sns.regplot(x=\"hsc_p\",y=\"mba_p\",data=dataframe)\n",
        "plt.legend([\"ssc percentage\", \"hsc percentage\"])\n",
        "plt.ylabel(\"mba percentage\")\n",
        "plt.show()"
      ],
      "execution_count": 6,
      "outputs": [
        {
          "output_type": "display_data",
          "data": {
            "image/png": "[encoded data removed]",
            "text/plain": [
              "<Figure size 864x576 with 1 Axes>"
            ]
          },
          "metadata": {
            "tags": [],
            "needs_background": "light"
          }
        }
      ]
    },
    {
      "cell_type": "markdown",
      "metadata": {
        "id": "GZtoxG0FwLJx"
      },
      "source": [
        "**Multiple linear regression equation with mbap as response variable and sscp & hscp as the two predictor variables**"
      ]
    },
    {
      "cell_type": "code",
      "metadata": {
        "id": "BVMIdCkDwNbO"
      },
      "source": [
        "# Seperating independent and dependent variables\n",
        "#dependent variables ssc_p, hsc_p\n",
        "X = data_class.iloc[:,[1,3]].values\n",
        "y = data_class.iloc[:,-3].values.reshape(-1,1)"
      ],
      "execution_count": 7,
      "outputs": []
    },
    {
      "cell_type": "code",
      "metadata": {
        "id": "UIImVOIJwR3u"
      },
      "source": [
        "#splitting into training and test set\n",
        "#from sklearn.model_selection import train_test_split\n",
        "X_train, X_test, y_train, y_test = train_test_split( X, y, test_size=0.2, random_state=0)"
      ],
      "execution_count": 8,
      "outputs": []
    },
    {
      "cell_type": "code",
      "metadata": {
        "id": "cwpFAbY9wU7-"
      },
      "source": [
        "#import library\n",
        "#from sklearn.linear_model import LinearRegression\n",
        "regressor = LinearRegression()\n",
        "\n",
        "#train the model\n",
        "regressor.fit(X_train, y_train)\n",
        "\n",
        "#predict the test set(mba_p)\n",
        "y_pred_m = regressor.predict(X_test)"
      ],
      "execution_count": 9,
      "outputs": []
    },
    {
      "cell_type": "code",
      "metadata": {
        "id": "GjXEPOHCwYX8",
        "outputId": "16de8617-16e6-4bee-bc97-3099a58b403c",
        "colab": {
          "base_uri": "https://localhost:8080/",
          "height": 34
        }
      },
      "source": [
        "#from sklearn.metrics import r2_score, classification_report\n",
        "print(\"R2 score: \" + str(r2_score(y_test, y_pred_m)))"
      ],
      "execution_count": 10,
      "outputs": [
        {
          "output_type": "stream",
          "text": [
            "R2 score: 0.1749591688855493\n"
          ],
          "name": "stdout"
        }
      ]
    },
    {
      "cell_type": "code",
      "metadata": {
        "id": "JZaNRkL4wbQW",
        "outputId": "d1a1e353-0efa-4acf-9716-0fa9617326e5",
        "colab": {
          "base_uri": "https://localhost:8080/",
          "height": 50
        }
      },
      "source": [
        "print(regressor.coef_)\n",
        "print(regressor.intercept_)"
      ],
      "execution_count": 11,
      "outputs": [
        {
          "output_type": "stream",
          "text": [
            "[[0.13869167 0.13315395]]\n",
            "[44.04616422]\n"
          ],
          "name": "stdout"
        }
      ]
    },
    {
      "cell_type": "code",
      "metadata": {
        "id": "12lsCbUtwhfy",
        "outputId": "71a691bc-06d4-4726-b456-7312eeea0c4f",
        "colab": {
          "base_uri": "https://localhost:8080/",
          "height": 426
        }
      },
      "source": [
        "#from statsmodels.api import OLS\n",
        "summ=OLS(y_train,X_train).fit()\n",
        "summ.summary()"
      ],
      "execution_count": 12,
      "outputs": [
        {
          "output_type": "execute_result",
          "data": {
            "text/html": [
              "<table class=\"simpletable\">\n",
              "<caption>OLS Regression Results</caption>\n",
              "<tr>\n",
              "  <th>Dep. Variable:</th>            <td>y</td>        <th>  R-squared (uncentered):</th>      <td>   0.983</td> \n",
              "</tr>\n",
              "<tr>\n",
              "  <th>Model:</th>                   <td>OLS</td>       <th>  Adj. R-squared (uncentered):</th> <td>   0.983</td> \n",
              "</tr>\n",
              "<tr>\n",
              "  <th>Method:</th>             <td>Least Squares</td>  <th>  F-statistic:       </th>          <td>   5048.</td> \n",
              "</tr>\n",
              "<tr>\n",
              "  <th>Date:</th>             <td>Sat, 24 Oct 2020</td> <th>  Prob (F-statistic):</th>          <td>4.18e-152</td>\n",
              "</tr>\n",
              "<tr>\n",
              "  <th>Time:</th>                 <td>03:58:37</td>     <th>  Log-Likelihood:    </th>          <td> -602.68</td> \n",
              "</tr>\n",
              "<tr>\n",
              "  <th>No. Observations:</th>      <td>   172</td>      <th>  AIC:               </th>          <td>   1209.</td> \n",
              "</tr>\n",
              "<tr>\n",
              "  <th>Df Residuals:</th>          <td>   170</td>      <th>  BIC:               </th>          <td>   1216.</td> \n",
              "</tr>\n",
              "<tr>\n",
              "  <th>Df Model:</th>              <td>     2</td>      <th>                     </th>              <td> </td>    \n",
              "</tr>\n",
              "<tr>\n",
              "  <th>Covariance Type:</th>      <td>nonrobust</td>    <th>                     </th>              <td> </td>    \n",
              "</tr>\n",
              "</table>\n",
              "<table class=\"simpletable\">\n",
              "<tr>\n",
              "   <td></td>     <th>coef</th>     <th>std err</th>      <th>t</th>      <th>P>|t|</th>  <th>[0.025</th>    <th>0.975]</th>  \n",
              "</tr>\n",
              "<tr>\n",
              "  <th>x1</th> <td>    0.5122</td> <td>    0.056</td> <td>    9.099</td> <td> 0.000</td> <td>    0.401</td> <td>    0.623</td>\n",
              "</tr>\n",
              "<tr>\n",
              "  <th>x2</th> <td>    0.4051</td> <td>    0.057</td> <td>    7.132</td> <td> 0.000</td> <td>    0.293</td> <td>    0.517</td>\n",
              "</tr>\n",
              "</table>\n",
              "<table class=\"simpletable\">\n",
              "<tr>\n",
              "  <th>Omnibus:</th>       <td> 1.329</td> <th>  Durbin-Watson:     </th> <td>   1.837</td>\n",
              "</tr>\n",
              "<tr>\n",
              "  <th>Prob(Omnibus):</th> <td> 0.514</td> <th>  Jarque-Bera (JB):  </th> <td>   1.101</td>\n",
              "</tr>\n",
              "<tr>\n",
              "  <th>Skew:</th>          <td> 0.193</td> <th>  Prob(JB):          </th> <td>   0.577</td>\n",
              "</tr>\n",
              "<tr>\n",
              "  <th>Kurtosis:</th>      <td> 3.066</td> <th>  Cond. No.          </th> <td>    12.3</td>\n",
              "</tr>\n",
              "</table><br/><br/>Warnings:<br/>[1] Standard Errors assume that the covariance matrix of the errors is correctly specified."
            ],
            "text/plain": [
              "<class 'statsmodels.iolib.summary.Summary'>\n",
              "\"\"\"\n",
              "                                 OLS Regression Results                                \n",
              "=======================================================================================\n",
              "Dep. Variable:                      y   R-squared (uncentered):                   0.983\n",
              "Model:                            OLS   Adj. R-squared (uncentered):              0.983\n",
              "Method:                 Least Squares   F-statistic:                              5048.\n",
              "Date:                Sat, 24 Oct 2020   Prob (F-statistic):                   4.18e-152\n",
              "Time:                        03:58:37   Log-Likelihood:                         -602.68\n",
              "No. Observations:                 172   AIC:                                      1209.\n",
              "Df Residuals:                     170   BIC:                                      1216.\n",
              "Df Model:                           2                                                  \n",
              "Covariance Type:            nonrobust                                                  \n",
              "==============================================================================\n",
              "                 coef    std err          t      P>|t|      [0.025      0.975]\n",
              "------------------------------------------------------------------------------\n",
              "x1             0.5122      0.056      9.099      0.000       0.401       0.623\n",
              "x2             0.4051      0.057      7.132      0.000       0.293       0.517\n",
              "==============================================================================\n",
              "Omnibus:                        1.329   Durbin-Watson:                   1.837\n",
              "Prob(Omnibus):                  0.514   Jarque-Bera (JB):                1.101\n",
              "Skew:                           0.193   Prob(JB):                        0.577\n",
              "Kurtosis:                       3.066   Cond. No.                         12.3\n",
              "==============================================================================\n",
              "\n",
              "Warnings:\n",
              "[1] Standard Errors assume that the covariance matrix of the errors is correctly specified.\n",
              "\"\"\""
            ]
          },
          "metadata": {
            "tags": []
          },
          "execution_count": 12
        }
      ]
    },
    {
      "cell_type": "markdown",
      "metadata": {
        "id": "5wczQX6CwmnY"
      },
      "source": [
        "**mbap as outcome variable and sscp & degreep as the two predictor variables**"
      ]
    },
    {
      "cell_type": "code",
      "metadata": {
        "id": "fP8aKaH8wlXj",
        "outputId": "daef6c0d-1cc9-4e0a-db7a-d9291c72a2fb",
        "colab": {
          "base_uri": "https://localhost:8080/",
          "height": 84
        }
      },
      "source": [
        "# Seperating independent and dependent variables\n",
        "#dependent variables ssc_p, degree_p\n",
        "X = data_class.iloc[:,[1,6]].values\n",
        "y = data_class.iloc[:,-3].values.reshape(-1,1)\n",
        "\n",
        "#splitting into training and test set\n",
        "#from sklearn.model_selection import train_test_split\n",
        "X_train, X_test, y_train, y_test = train_test_split( X, y, test_size=0.2, random_state=0)\n",
        "\n",
        "#Multiple linear regression\n",
        "#from sklearn.linear_model import LinearRegression\n",
        "regressor = LinearRegression()\n",
        "regressor.fit(X_train, y_train)\n",
        "\n",
        "#predict the dependent variable\n",
        "y_pred_m = regressor.predict(X_test)\n",
        "\n",
        "#from sklearn.metrics import r2_score, classification_report\n",
        "print(\"R2 score: \" + str(r2_score(y_test, y_pred_m)))\n",
        "print(\"regression coeff: \" + str(regressor.coef_))\n",
        "print(\"regression intercept: \" + str(regressor.intercept_))\n",
        "print(\"mba_p = 0.12 x ssc_p + 0.22 x degree_p + 39.66\")"
      ],
      "execution_count": 13,
      "outputs": [
        {
          "output_type": "stream",
          "text": [
            "R2 score: 0.2670526417462228\n",
            "regression coeff: [[0.1237819  0.21517005]]\n",
            "regression intercept: [39.65800695]\n",
            "mba_p = 0.12 x ssc_p + 0.22 x degree_p + 39.66\n"
          ],
          "name": "stdout"
        }
      ]
    },
    {
      "cell_type": "markdown",
      "metadata": {
        "id": "L71-gzu48aOl"
      },
      "source": [
        "**Use mbap as outcome variable and hscp & degreep as the two predictor variables.**"
      ]
    },
    {
      "cell_type": "code",
      "metadata": {
        "id": "LUhhJqWWxBvY",
        "outputId": "76b13748-e666-49b9-f6a2-29c233dc6c1d",
        "colab": {
          "base_uri": "https://localhost:8080/",
          "height": 84
        }
      },
      "source": [
        "# Seperating independent and dependent variables\n",
        "X = data_class.iloc[:,[3,6]].values\n",
        "y = data_class.iloc[:,-3].values.reshape(-1,1)\n",
        "\n",
        "#splitting into training and test set\n",
        "#from sklearn.model_selection import train_test_split\n",
        "X_train, X_test, y_train, y_test = train_test_split( X, y, test_size=0.2, random_state=0)\n",
        "\n",
        "#Multiple linear regression\n",
        "#from sklearn.linear_model import LinearRegression\n",
        "regressor = LinearRegression()\n",
        "regressor.fit(X_train, y_train)\n",
        "y_pred_m = regressor.predict(X_test)\n",
        "\n",
        "#from sklearn.metrics import r2_score, classification_report\n",
        "print(\"R2 score:\" + str(r2_score(y_test, y_pred_m)))\n",
        "print(\"regression coeff:\" + str(regressor.coef_))\n",
        "print(\"regression intercept:\" + str(regressor.intercept_))\n",
        "print(\"mba_p = \" + str(regressor.coef_[0][0]) + \" x hsc_p + \" + str(regressor.coef_[0][1]) + \" x degree_p + \" + str(regressor.intercept_[0]))"
      ],
      "execution_count": 14,
      "outputs": [
        {
          "output_type": "stream",
          "text": [
            "R2 score:0.17616396722600414\n",
            "regression coeff:[[0.13171318 0.22510365]]\n",
            "regression intercept:[38.56332438]\n",
            "mba_p = 0.13171318061863166 x hsc_p + 0.22510364524995355 x degree_p + 38.56332437694495\n"
          ],
          "name": "stdout"
        }
      ]
    },
    {
      "cell_type": "markdown",
      "metadata": {
        "id": "GtCOcwMj8r1N"
      },
      "source": [
        "**Model with mba_p as dependent varialble and ssc_p, hsc_p and degree_p as three independent variables.**"
      ]
    },
    {
      "cell_type": "code",
      "metadata": {
        "id": "zjPtplE70IUN",
        "outputId": "4504643d-0a75-4118-8c21-7b73c0c2ebc8",
        "colab": {
          "base_uri": "https://localhost:8080/",
          "height": 34
        }
      },
      "source": [
        "# Seperating independent and dependent variables\n",
        "X = data_class.iloc[:,[1,3,6]].values\n",
        "y = data_class.iloc[:,-3].values.reshape(-1,1)\n",
        "\n",
        "#splitting into training and test set\n",
        "#from sklearn.model_selection import train_test_split\n",
        "X_train, X_test, y_train, y_test = train_test_split( X, y, test_size=0.2, random_state=1001)\n",
        "\n",
        "#Multiple linear regression\n",
        "#from sklearn.linear_model import LinearRegression\n",
        "regressor = LinearRegression()\n",
        "regressor.fit(X_train, y_train)"
      ],
      "execution_count": 15,
      "outputs": [
        {
          "output_type": "execute_result",
          "data": {
            "text/plain": [
              "LinearRegression(copy_X=True, fit_intercept=True, n_jobs=None, normalize=False)"
            ]
          },
          "metadata": {
            "tags": []
          },
          "execution_count": 15
        }
      ]
    },
    {
      "cell_type": "code",
      "metadata": {
        "id": "7YuQz1t10Q1f",
        "outputId": "13658f8d-9cac-4374-89ef-44ffbd9ceff7",
        "colab": {
          "base_uri": "https://localhost:8080/",
          "height": 446
        }
      },
      "source": [
        "#Summary of the model\n",
        "#from statsmodels.api import OLS\n",
        "summ=OLS(y_train,X_train).fit()\n",
        "summ.summary()\n"
      ],
      "execution_count": 16,
      "outputs": [
        {
          "output_type": "execute_result",
          "data": {
            "text/html": [
              "<table class=\"simpletable\">\n",
              "<caption>OLS Regression Results</caption>\n",
              "<tr>\n",
              "  <th>Dep. Variable:</th>            <td>y</td>        <th>  R-squared (uncentered):</th>      <td>   0.989</td> \n",
              "</tr>\n",
              "<tr>\n",
              "  <th>Model:</th>                   <td>OLS</td>       <th>  Adj. R-squared (uncentered):</th> <td>   0.989</td> \n",
              "</tr>\n",
              "<tr>\n",
              "  <th>Method:</th>             <td>Least Squares</td>  <th>  F-statistic:       </th>          <td>   4980.</td> \n",
              "</tr>\n",
              "<tr>\n",
              "  <th>Date:</th>             <td>Sat, 24 Oct 2020</td> <th>  Prob (F-statistic):</th>          <td>1.34e-164</td>\n",
              "</tr>\n",
              "<tr>\n",
              "  <th>Time:</th>                 <td>04:14:57</td>     <th>  Log-Likelihood:    </th>          <td> -569.34</td> \n",
              "</tr>\n",
              "<tr>\n",
              "  <th>No. Observations:</th>      <td>   172</td>      <th>  AIC:               </th>          <td>   1145.</td> \n",
              "</tr>\n",
              "<tr>\n",
              "  <th>Df Residuals:</th>          <td>   169</td>      <th>  BIC:               </th>          <td>   1154.</td> \n",
              "</tr>\n",
              "<tr>\n",
              "  <th>Df Model:</th>              <td>     3</td>      <th>                     </th>              <td> </td>    \n",
              "</tr>\n",
              "<tr>\n",
              "  <th>Covariance Type:</th>      <td>nonrobust</td>    <th>                     </th>              <td> </td>    \n",
              "</tr>\n",
              "</table>\n",
              "<table class=\"simpletable\">\n",
              "<tr>\n",
              "   <td></td>     <th>coef</th>     <th>std err</th>      <th>t</th>      <th>P>|t|</th>  <th>[0.025</th>    <th>0.975]</th>  \n",
              "</tr>\n",
              "<tr>\n",
              "  <th>x1</th> <td>    0.1817</td> <td>    0.063</td> <td>    2.892</td> <td> 0.004</td> <td>    0.058</td> <td>    0.306</td>\n",
              "</tr>\n",
              "<tr>\n",
              "  <th>x2</th> <td>    0.1940</td> <td>    0.054</td> <td>    3.583</td> <td> 0.000</td> <td>    0.087</td> <td>    0.301</td>\n",
              "</tr>\n",
              "<tr>\n",
              "  <th>x3</th> <td>    0.5572</td> <td>    0.066</td> <td>    8.455</td> <td> 0.000</td> <td>    0.427</td> <td>    0.687</td>\n",
              "</tr>\n",
              "</table>\n",
              "<table class=\"simpletable\">\n",
              "<tr>\n",
              "  <th>Omnibus:</th>       <td> 3.046</td> <th>  Durbin-Watson:     </th> <td>   1.977</td>\n",
              "</tr>\n",
              "<tr>\n",
              "  <th>Prob(Omnibus):</th> <td> 0.218</td> <th>  Jarque-Bera (JB):  </th> <td>   3.043</td>\n",
              "</tr>\n",
              "<tr>\n",
              "  <th>Skew:</th>          <td> 0.284</td> <th>  Prob(JB):          </th> <td>   0.218</td>\n",
              "</tr>\n",
              "<tr>\n",
              "  <th>Kurtosis:</th>      <td> 2.681</td> <th>  Cond. No.          </th> <td>    18.8</td>\n",
              "</tr>\n",
              "</table><br/><br/>Warnings:<br/>[1] Standard Errors assume that the covariance matrix of the errors is correctly specified."
            ],
            "text/plain": [
              "<class 'statsmodels.iolib.summary.Summary'>\n",
              "\"\"\"\n",
              "                                 OLS Regression Results                                \n",
              "=======================================================================================\n",
              "Dep. Variable:                      y   R-squared (uncentered):                   0.989\n",
              "Model:                            OLS   Adj. R-squared (uncentered):              0.989\n",
              "Method:                 Least Squares   F-statistic:                              4980.\n",
              "Date:                Sat, 24 Oct 2020   Prob (F-statistic):                   1.34e-164\n",
              "Time:                        04:14:57   Log-Likelihood:                         -569.34\n",
              "No. Observations:                 172   AIC:                                      1145.\n",
              "Df Residuals:                     169   BIC:                                      1154.\n",
              "Df Model:                           3                                                  \n",
              "Covariance Type:            nonrobust                                                  \n",
              "==============================================================================\n",
              "                 coef    std err          t      P>|t|      [0.025      0.975]\n",
              "------------------------------------------------------------------------------\n",
              "x1             0.1817      0.063      2.892      0.004       0.058       0.306\n",
              "x2             0.1940      0.054      3.583      0.000       0.087       0.301\n",
              "x3             0.5572      0.066      8.455      0.000       0.427       0.687\n",
              "==============================================================================\n",
              "Omnibus:                        3.046   Durbin-Watson:                   1.977\n",
              "Prob(Omnibus):                  0.218   Jarque-Bera (JB):                3.043\n",
              "Skew:                           0.284   Prob(JB):                        0.218\n",
              "Kurtosis:                       2.681   Cond. No.                         18.8\n",
              "==============================================================================\n",
              "\n",
              "Warnings:\n",
              "[1] Standard Errors assume that the covariance matrix of the errors is correctly specified.\n",
              "\"\"\""
            ]
          },
          "metadata": {
            "tags": []
          },
          "execution_count": 16
        }
      ]
    },
    {
      "cell_type": "markdown",
      "metadata": {
        "id": "vA1XT_ba85IS"
      },
      "source": [
        "**Drop the ssc feature**"
      ]
    },
    {
      "cell_type": "code",
      "metadata": {
        "id": "odW3oR5P0TAW",
        "outputId": "54b77c3c-fc64-4ef0-f5be-a5cdfb44b136",
        "colab": {
          "base_uri": "https://localhost:8080/",
          "height": 34
        }
      },
      "source": [
        "# Seperating independent and dependent variables\n",
        "X = data_class.iloc[:,[3,6]].values\n",
        "y = data_class.iloc[:,-3].values.reshape(-1,1)\n",
        "\n",
        "#splitting into training and test set\n",
        "#from sklearn.model_selection import train_test_split\n",
        "X_train, X_test, y_train, y_test = train_test_split( X, y, test_size=0.2, random_state=1001)\n",
        "\n",
        "#Multiple linear regression\n",
        "#from sklearn.linear_model import LinearRegression\n",
        "regressor = LinearRegression()\n",
        "regressor.fit(X_train, y_train)"
      ],
      "execution_count": 17,
      "outputs": [
        {
          "output_type": "execute_result",
          "data": {
            "text/plain": [
              "LinearRegression(copy_X=True, fit_intercept=True, n_jobs=None, normalize=False)"
            ]
          },
          "metadata": {
            "tags": []
          },
          "execution_count": 17
        }
      ]
    },
    {
      "cell_type": "code",
      "metadata": {
        "id": "0JMe9EdY0YmP"
      },
      "source": [
        "#predict the values\n",
        "y_pred_m = regressor.predict(X_test)"
      ],
      "execution_count": 18,
      "outputs": []
    },
    {
      "cell_type": "code",
      "metadata": {
        "id": "K82337Jh0bcP",
        "outputId": "a7abc127-b535-47c6-b402-2ef16a8c362b",
        "colab": {
          "base_uri": "https://localhost:8080/",
          "height": 426
        }
      },
      "source": [
        "#Summary of the model\n",
        "#from statsmodels.api import OLS\n",
        "summ=OLS(y_train,X_train).fit()\n",
        "summ.summary()"
      ],
      "execution_count": 19,
      "outputs": [
        {
          "output_type": "execute_result",
          "data": {
            "text/html": [
              "<table class=\"simpletable\">\n",
              "<caption>OLS Regression Results</caption>\n",
              "<tr>\n",
              "  <th>Dep. Variable:</th>            <td>y</td>        <th>  R-squared (uncentered):</th>      <td>   0.988</td> \n",
              "</tr>\n",
              "<tr>\n",
              "  <th>Model:</th>                   <td>OLS</td>       <th>  Adj. R-squared (uncentered):</th> <td>   0.988</td> \n",
              "</tr>\n",
              "<tr>\n",
              "  <th>Method:</th>             <td>Least Squares</td>  <th>  F-statistic:       </th>          <td>   7155.</td> \n",
              "</tr>\n",
              "<tr>\n",
              "  <th>Date:</th>             <td>Sat, 24 Oct 2020</td> <th>  Prob (F-statistic):</th>          <td>8.33e-165</td>\n",
              "</tr>\n",
              "<tr>\n",
              "  <th>Time:</th>                 <td>04:15:42</td>     <th>  Log-Likelihood:    </th>          <td> -573.50</td> \n",
              "</tr>\n",
              "<tr>\n",
              "  <th>No. Observations:</th>      <td>   172</td>      <th>  AIC:               </th>          <td>   1151.</td> \n",
              "</tr>\n",
              "<tr>\n",
              "  <th>Df Residuals:</th>          <td>   170</td>      <th>  BIC:               </th>          <td>   1157.</td> \n",
              "</tr>\n",
              "<tr>\n",
              "  <th>Df Model:</th>              <td>     2</td>      <th>                     </th>              <td> </td>    \n",
              "</tr>\n",
              "<tr>\n",
              "  <th>Covariance Type:</th>      <td>nonrobust</td>    <th>                     </th>              <td> </td>    \n",
              "</tr>\n",
              "</table>\n",
              "<table class=\"simpletable\">\n",
              "<tr>\n",
              "   <td></td>     <th>coef</th>     <th>std err</th>      <th>t</th>      <th>P>|t|</th>  <th>[0.025</th>    <th>0.975]</th>  \n",
              "</tr>\n",
              "<tr>\n",
              "  <th>x1</th> <td>    0.2537</td> <td>    0.051</td> <td>    4.963</td> <td> 0.000</td> <td>    0.153</td> <td>    0.355</td>\n",
              "</tr>\n",
              "<tr>\n",
              "  <th>x2</th> <td>    0.6804</td> <td>    0.051</td> <td>   13.245</td> <td> 0.000</td> <td>    0.579</td> <td>    0.782</td>\n",
              "</tr>\n",
              "</table>\n",
              "<table class=\"simpletable\">\n",
              "<tr>\n",
              "  <th>Omnibus:</th>       <td> 4.630</td> <th>  Durbin-Watson:     </th> <td>   2.022</td>\n",
              "</tr>\n",
              "<tr>\n",
              "  <th>Prob(Omnibus):</th> <td> 0.099</td> <th>  Jarque-Bera (JB):  </th> <td>   3.431</td>\n",
              "</tr>\n",
              "<tr>\n",
              "  <th>Skew:</th>          <td> 0.212</td> <th>  Prob(JB):          </th> <td>   0.180</td>\n",
              "</tr>\n",
              "<tr>\n",
              "  <th>Kurtosis:</th>      <td> 2.453</td> <th>  Cond. No.          </th> <td>    13.1</td>\n",
              "</tr>\n",
              "</table><br/><br/>Warnings:<br/>[1] Standard Errors assume that the covariance matrix of the errors is correctly specified."
            ],
            "text/plain": [
              "<class 'statsmodels.iolib.summary.Summary'>\n",
              "\"\"\"\n",
              "                                 OLS Regression Results                                \n",
              "=======================================================================================\n",
              "Dep. Variable:                      y   R-squared (uncentered):                   0.988\n",
              "Model:                            OLS   Adj. R-squared (uncentered):              0.988\n",
              "Method:                 Least Squares   F-statistic:                              7155.\n",
              "Date:                Sat, 24 Oct 2020   Prob (F-statistic):                   8.33e-165\n",
              "Time:                        04:15:42   Log-Likelihood:                         -573.50\n",
              "No. Observations:                 172   AIC:                                      1151.\n",
              "Df Residuals:                     170   BIC:                                      1157.\n",
              "Df Model:                           2                                                  \n",
              "Covariance Type:            nonrobust                                                  \n",
              "==============================================================================\n",
              "                 coef    std err          t      P>|t|      [0.025      0.975]\n",
              "------------------------------------------------------------------------------\n",
              "x1             0.2537      0.051      4.963      0.000       0.153       0.355\n",
              "x2             0.6804      0.051     13.245      0.000       0.579       0.782\n",
              "==============================================================================\n",
              "Omnibus:                        4.630   Durbin-Watson:                   2.022\n",
              "Prob(Omnibus):                  0.099   Jarque-Bera (JB):                3.431\n",
              "Skew:                           0.212   Prob(JB):                        0.180\n",
              "Kurtosis:                       2.453   Cond. No.                         13.1\n",
              "==============================================================================\n",
              "\n",
              "Warnings:\n",
              "[1] Standard Errors assume that the covariance matrix of the errors is correctly specified.\n",
              "\"\"\""
            ]
          },
          "metadata": {
            "tags": []
          },
          "execution_count": 19
        }
      ]
    },
    {
      "cell_type": "code",
      "metadata": {
        "id": "ixT0Ucdk0fCA",
        "outputId": "1d31423e-08d1-4f8e-8b77-b6090f4ffc1d",
        "colab": {
          "base_uri": "https://localhost:8080/",
          "height": 84
        }
      },
      "source": [
        "#from sklearn.metrics import r2_score, classification_report\n",
        "#R2 score\n",
        "print(\"R2 score:\" + str(r2_score(y_test, y_pred_m)))\n",
        "\n",
        "#model p values\n",
        "print(\"regression coeff:\" + str(regressor.coef_))\n",
        "print(\"regression intercept:\" + str(regressor.intercept_))\n",
        "print(\"mba_p = \" + str(regressor.coef_[0][0]) + \" x hsc_p + \" + str(regressor.coef_[0][1]) + \" x degree_p + \" + str(regressor.intercept_[0]))"
      ],
      "execution_count": 20,
      "outputs": [
        {
          "output_type": "stream",
          "text": [
            "R2 score:0.1883460640212925\n",
            "regression coeff:[[0.14059098 0.2137894 ]]\n",
            "regression intercept:[38.89461384]\n",
            "mba_p = 0.14059098107062354 x hsc_p + 0.21378939519548953 x degree_p + 38.89461383778403\n"
          ],
          "name": "stdout"
        }
      ]
    },
    {
      "cell_type": "code",
      "metadata": {
        "id": "OhQ3zE4U0iFA",
        "outputId": "77879fed-a977-45db-94b6-98fd26450acd",
        "colab": {
          "base_uri": "https://localhost:8080/",
          "height": 284
        }
      },
      "source": [
        "np.set_printoptions(precision=2)\n",
        "dff = pd.DataFrame(list(zip(y_test, y_pred_m.round(2))),columns=(\"Target\",\"Predicted\"))\n",
        "dff.head(8)"
      ],
      "execution_count": 21,
      "outputs": [
        {
          "output_type": "execute_result",
          "data": {
            "text/html": [
              "<div>\n",
              "<style scoped>\n",
              "    .dataframe tbody tr th:only-of-type {\n",
              "        vertical-align: middle;\n",
              "    }\n",
              "\n",
              "    .dataframe tbody tr th {\n",
              "        vertical-align: top;\n",
              "    }\n",
              "\n",
              "    .dataframe thead th {\n",
              "        text-align: right;\n",
              "    }\n",
              "</style>\n",
              "<table border=\"1\" class=\"dataframe\">\n",
              "  <thead>\n",
              "    <tr style=\"text-align: right;\">\n",
              "      <th></th>\n",
              "      <th>Target</th>\n",
              "      <th>Predicted</th>\n",
              "    </tr>\n",
              "  </thead>\n",
              "  <tbody>\n",
              "    <tr>\n",
              "      <th>0</th>\n",
              "      <td>[62.54]</td>\n",
              "      <td>[62.23]</td>\n",
              "    </tr>\n",
              "    <tr>\n",
              "      <th>1</th>\n",
              "      <td>[70.81]</td>\n",
              "      <td>[69.42]</td>\n",
              "    </tr>\n",
              "    <tr>\n",
              "      <th>2</th>\n",
              "      <td>[72.14]</td>\n",
              "      <td>[61.62]</td>\n",
              "    </tr>\n",
              "    <tr>\n",
              "      <th>3</th>\n",
              "      <td>[69.7]</td>\n",
              "      <td>[66.47]</td>\n",
              "    </tr>\n",
              "    <tr>\n",
              "      <th>4</th>\n",
              "      <td>[65.48]</td>\n",
              "      <td>[57.92]</td>\n",
              "    </tr>\n",
              "    <tr>\n",
              "      <th>5</th>\n",
              "      <td>[61.31]</td>\n",
              "      <td>[62.01]</td>\n",
              "    </tr>\n",
              "    <tr>\n",
              "      <th>6</th>\n",
              "      <td>[52.64]</td>\n",
              "      <td>[59.02]</td>\n",
              "    </tr>\n",
              "    <tr>\n",
              "      <th>7</th>\n",
              "      <td>[57.65]</td>\n",
              "      <td>[64.04]</td>\n",
              "    </tr>\n",
              "  </tbody>\n",
              "</table>\n",
              "</div>"
            ],
            "text/plain": [
              "    Target Predicted\n",
              "0  [62.54]   [62.23]\n",
              "1  [70.81]   [69.42]\n",
              "2  [72.14]   [61.62]\n",
              "3   [69.7]   [66.47]\n",
              "4  [65.48]   [57.92]\n",
              "5  [61.31]   [62.01]\n",
              "6  [52.64]   [59.02]\n",
              "7  [57.65]   [64.04]"
            ]
          },
          "metadata": {
            "tags": []
          },
          "execution_count": 21
        }
      ]
    },
    {
      "cell_type": "markdown",
      "metadata": {
        "id": "y6g_lGpk0-e2"
      },
      "source": [
        "With mbap as response variable and sscp & hscp as the two predictor variables, p-values of hsc and ssc predictor variable is 0 hence, both of them are statistically significant variables.\n",
        "\n",
        "Using mbap as outcome variable and sscp & degreep as the two predictor variables, R2(**goodness-of-fit measure**) score that we get is 0.267, while using mbap as outcome variable and hscp & degreep as the two predictor variables, R2 score we get is 0.176. R-squared is the strength of the relationship between the model and the dependent variable. Hence, model with mbap as outcome variable and sscp & degreep as the two predictor variables is better.\n",
        "\n",
        "Model with mba_p as dependent varialble and ssc_p, hsc_p and degree_p as three independent variables, P values of hsc and degree predictor variable is 0 hence, both of them are statistically significant variables. But p value of ssc is not 0. Dropping ssc gives R2 score = 0.188.\n",
        "\n"
      ]
    }
  ]
}